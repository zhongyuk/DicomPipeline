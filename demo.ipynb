{
 "cells": [
  {
   "cell_type": "code",
   "execution_count": 2,
   "metadata": {
    "collapsed": true
   },
   "outputs": [],
   "source": [
    "import parsers\n",
    "import pipeline\n",
    "import numpy as np\n",
    "import pandas as pd\n",
    "import matplotlib.pyplot as plt\n",
    "%matplotlib inline"
   ]
  },
  {
   "cell_type": "markdown",
   "metadata": {},
   "source": [
    "## Preparation for the demo"
   ]
  },
  {
   "cell_type": "code",
   "execution_count": 3,
   "metadata": {
    "collapsed": true
   },
   "outputs": [],
   "source": [
    "pid_oid = pd.read_csv('link.csv')"
   ]
  },
  {
   "cell_type": "code",
   "execution_count": 4,
   "metadata": {
    "collapsed": false
   },
   "outputs": [
    {
     "data": {
      "text/html": [
       "<div>\n",
       "<style>\n",
       "    .dataframe thead tr:only-child th {\n",
       "        text-align: right;\n",
       "    }\n",
       "\n",
       "    .dataframe thead th {\n",
       "        text-align: left;\n",
       "    }\n",
       "\n",
       "    .dataframe tbody tr th {\n",
       "        vertical-align: top;\n",
       "    }\n",
       "</style>\n",
       "<table border=\"1\" class=\"dataframe\">\n",
       "  <thead>\n",
       "    <tr style=\"text-align: right;\">\n",
       "      <th></th>\n",
       "      <th>patient_id</th>\n",
       "      <th>original_id</th>\n",
       "    </tr>\n",
       "  </thead>\n",
       "  <tbody>\n",
       "    <tr>\n",
       "      <th>0</th>\n",
       "      <td>SCD0000101</td>\n",
       "      <td>SC-HF-I-1</td>\n",
       "    </tr>\n",
       "    <tr>\n",
       "      <th>1</th>\n",
       "      <td>SCD0000201</td>\n",
       "      <td>SC-HF-I-2</td>\n",
       "    </tr>\n",
       "    <tr>\n",
       "      <th>2</th>\n",
       "      <td>SCD0000301</td>\n",
       "      <td>SC-HF-I-4</td>\n",
       "    </tr>\n",
       "    <tr>\n",
       "      <th>3</th>\n",
       "      <td>SCD0000401</td>\n",
       "      <td>SC-HF-I-5</td>\n",
       "    </tr>\n",
       "    <tr>\n",
       "      <th>4</th>\n",
       "      <td>SCD0000501</td>\n",
       "      <td>SC-HF-I-6</td>\n",
       "    </tr>\n",
       "  </tbody>\n",
       "</table>\n",
       "</div>"
      ],
      "text/plain": [
       "   patient_id original_id\n",
       "0  SCD0000101   SC-HF-I-1\n",
       "1  SCD0000201   SC-HF-I-2\n",
       "2  SCD0000301   SC-HF-I-4\n",
       "3  SCD0000401   SC-HF-I-5\n",
       "4  SCD0000501   SC-HF-I-6"
      ]
     },
     "execution_count": 4,
     "metadata": {},
     "output_type": "execute_result"
    }
   ],
   "source": [
    "pid_oid"
   ]
  },
  {
   "cell_type": "markdown",
   "metadata": {},
   "source": [
    "## API for Parsing DICOM Image"
   ]
  },
  {
   "cell_type": "code",
   "execution_count": 5,
   "metadata": {
    "collapsed": true
   },
   "outputs": [],
   "source": [
    "pid = pid_oid['patient_id'][0]\n",
    "dicom_fid = 59"
   ]
  },
  {
   "cell_type": "code",
   "execution_count": 6,
   "metadata": {
    "collapsed": true
   },
   "outputs": [],
   "source": [
    "dicom_parser = parsers.DicomParser(pid, dicom_fid)\n",
    "dicom_image = dicom_parser.parse()"
   ]
  },
  {
   "cell_type": "code",
   "execution_count": 7,
   "metadata": {
    "collapsed": false
   },
   "outputs": [
    {
     "name": "stdout",
     "output_type": "stream",
     "text": [
      "<type 'numpy.ndarray'>\n",
      "(256, 256)\n"
     ]
    }
   ],
   "source": [
    "print(type(dicom_image))\n",
    "print(dicom_image.shape)"
   ]
  },
  {
   "cell_type": "markdown",
   "metadata": {},
   "source": [
    "## API for Parsing Contour Files - use i-contour as an example"
   ]
  },
  {
   "cell_type": "code",
   "execution_count": 8,
   "metadata": {
    "collapsed": true
   },
   "outputs": [],
   "source": [
    "oid = pid_oid['original_id'][0]\n",
    "contour_fid = 59\n",
    "contour_type = 'i'"
   ]
  },
  {
   "cell_type": "code",
   "execution_count": 9,
   "metadata": {
    "collapsed": true
   },
   "outputs": [],
   "source": [
    "contour_parser = parsers.ContourParser(oid, contour_fid, contour_type)\n",
    "contour_polygon = contour_parser.parse()"
   ]
  },
  {
   "cell_type": "code",
   "execution_count": 10,
   "metadata": {
    "collapsed": false
   },
   "outputs": [
    {
     "name": "stdout",
     "output_type": "stream",
     "text": [
      "<type 'list'>\n",
      "(130.5, 118.0)\n"
     ]
    }
   ],
   "source": [
    "print(type(contour_polygon))\n",
    "print(contour_polygon[0])"
   ]
  },
  {
   "cell_type": "markdown",
   "metadata": {},
   "source": [
    "## API for Parsing Boolean Mask"
   ]
  },
  {
   "cell_type": "code",
   "execution_count": 11,
   "metadata": {
    "collapsed": true
   },
   "outputs": [],
   "source": [
    "mask_parser = parsers.MaskParser(dicom_image, contour_polygon)\n",
    "bool_mask = mask_parser.parse()"
   ]
  },
  {
   "cell_type": "code",
   "execution_count": 12,
   "metadata": {
    "collapsed": false
   },
   "outputs": [
    {
     "name": "stdout",
     "output_type": "stream",
     "text": [
      "<type 'numpy.ndarray'>\n",
      "(256, 256)\n"
     ]
    }
   ],
   "source": [
    "print(type(bool_mask))\n",
    "print(bool_mask.shape)"
   ]
  },
  {
   "cell_type": "code",
   "execution_count": 13,
   "metadata": {
    "collapsed": false
   },
   "outputs": [
    {
     "data": {
      "image/png": "[encoded data removed]",
      "text/plain": [
       "<matplotlib.figure.Figure at 0x10d663bd0>"
      ]
     },
     "metadata": {},
     "output_type": "display_data"
    }
   ],
   "source": [
    "mask_parser.visualize()"
   ]
  },
  {
   "cell_type": "markdown",
   "metadata": {},
   "source": [
    "**How to verify the correctness in the parsing of DICOM image, contour, and boolean mask?**\n",
    "\n",
    "The verification of the correctness in parsing is done through a few different methods and aspects:\n",
    "    - The correct matching of data file naming system. This part requires human carefulness in transporting the data, meticulousness in coding and good programming practices (such as avoid hard-coding filenames as much as possible). To enhance this, unit tests are added to strengthen a correct matching between DICOM image and contour files.\n",
    "    - Rely on visualization and domain experties. Therefore, a `visualize` API is provided in the `MaskParser` to help engage human level examination and sanity check on the data.\n",
    "    \n",
    "**What changes are made on top of the initial `parsing.py` file?**\n",
    "\n",
    "The functions for parsing DICOM image, contour files, and boolean mask are used to form a uniform `Parser` framework, where the parsing function serves as the pillar of the parsing action in each corresponding `Parser` class. Please seek more detail directly in the `parsers.py` file."
   ]
  },
  {
   "cell_type": "markdown",
   "metadata": {},
   "source": [
    "## API for A Training Pipeline\n",
    "\n",
    "### Pairing DICOM images with contour files, load all data, parse boolean masks"
   ]
  },
  {
   "cell_type": "code",
   "execution_count": 14,
   "metadata": {
    "collapsed": true
   },
   "outputs": [],
   "source": [
    "link_fn = 'link.csv'\n",
    "contour_type = 'i'\n",
    "batch_size = 8"
   ]
  },
  {
   "cell_type": "code",
   "execution_count": 17,
   "metadata": {
    "collapsed": false
   },
   "outputs": [
    {
     "name": "stdout",
     "output_type": "stream",
     "text": [
      "True True\n"
     ]
    }
   ],
   "source": [
    "train_pipe = pipeline.TrainingPipeline(link_fn, contour_type, batch_size)\n",
    "print(train_pipe._inputs is None, train_pipe._targets is None)"
   ]
  },
  {
   "cell_type": "code",
   "execution_count": 18,
   "metadata": {
    "collapsed": false
   },
   "outputs": [
    {
     "name": "stdout",
     "output_type": "stream",
     "text": [
      "Preparing training data...\n",
      "False False\n"
     ]
    }
   ],
   "source": [
    "train_pipe.prepare_training_data()\n",
    "print(train_pipe._inputs is None, train_pipe._targets is None)"
   ]
  },
  {
   "cell_type": "code",
   "execution_count": 19,
   "metadata": {
    "collapsed": false
   },
   "outputs": [
    {
     "name": "stdout",
     "output_type": "stream",
     "text": [
      "number of inputs: 96 \t number of targets: 96\n"
     ]
    }
   ],
   "source": [
    "print('number of inputs: %d \\t number of targets: %d' % (len(train_pipe._inputs), len(train_pipe._targets)))"
   ]
  },
  {
   "cell_type": "markdown",
   "metadata": {},
   "source": [
    "### Batch serving `(input, target)` pairs "
   ]
  },
  {
   "cell_type": "code",
   "execution_count": 20,
   "metadata": {
    "collapsed": false
   },
   "outputs": [
    {
     "name": "stdout",
     "output_type": "stream",
     "text": [
      "training step: 0 \t batch size: 8\n",
      "training step: 1 \t batch size: 8\n",
      "training step: 2 \t batch size: 8\n",
      "training step: 3 \t batch size: 8\n",
      "training step: 4 \t batch size: 8\n",
      "training step: 5 \t batch size: 8\n",
      "training step: 6 \t batch size: 8\n",
      "training step: 7 \t batch size: 8\n",
      "training step: 8 \t batch size: 8\n",
      "training step: 9 \t batch size: 8\n",
      "training step: 10 \t batch size: 8\n",
      "Finished iterating one epoch, reshuffling...\n",
      "training step: 11 \t batch size: 8\n",
      "training step: 12 \t batch size: 8\n",
      "training step: 13 \t batch size: 8\n",
      "training step: 14 \t batch size: 8\n",
      "training step: 15 \t batch size: 8\n",
      "training step: 16 \t batch size: 8\n",
      "training step: 17 \t batch size: 8\n",
      "training step: 18 \t batch size: 8\n",
      "training step: 19 \t batch size: 8\n"
     ]
    }
   ],
   "source": [
    "num_training_steps = 20\n",
    "for i in range(num_training_steps):\n",
    "    batch_input, batch_target = train_pipe.next_batch()\n",
    "    print('training step: %d \\t batch size: %d' %(i, len(batch_input)))"
   ]
  },
  {
   "cell_type": "markdown",
   "metadata": {},
   "source": [
    "**What changes in the `parsers.py` could be made to help better streaming data in the `TrainingPipeline`?\n",
    "\n",
    "Currently, all the `parsers` operate in a single input instance. It is possible to enhance the `parsers` and make them process a batch of inputs instead of a single one, which may help better streaming data for the entire pipeline.\n",
    "\n",
    "**How is the pipeline being verified?**\n",
    "\n",
    "Besides some basic unit tests provided in `test_pipeline.py`, the correctness of the pipleline is also examined by actually running it on IPython shell with human sanity examination. For instance, during the code development process, the looping index was printed out for verification of the correct batch iteration; the number of times where data random shuffling happened was also counted to ensure that the data shuffling happens after batch serving of one epoch.\n",
    "\n",
    "**Propose some future potential improvements in the pipeline**\n",
    "\n",
    "- Turn the `next_batch` API into an iterator fashion would be neater\n",
    "- Build in some kind of visualization API into the pipeline would be helpful for debugging\n",
    "- Have a standardized class for wrapping the `inputs` and `targets` would be neater and beneficial for other downstream operations "
   ]
  },
  {
   "cell_type": "code",
   "execution_count": null,
   "metadata": {
    "collapsed": true
   },
   "outputs": [],
   "source": []
  }
 ],
 "metadata": {
  "kernelspec": {
   "display_name": "Python 2",
   "language": "python",
   "name": "python2"
  },
  "language_info": {
   "codemirror_mode": {
    "name": "ipython",
    "version": 2
   },
   "file_extension": ".py",
   "mimetype": "text/x-python",
   "name": "python",
   "nbconvert_exporter": "python",
   "pygments_lexer": "ipython2",
   "version": "2.7.9"
  }
 },
 "nbformat": 4,
 "nbformat_minor": 0
}
